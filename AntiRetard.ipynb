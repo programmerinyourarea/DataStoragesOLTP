{
  "nbformat": 4,
  "nbformat_minor": 0,
  "metadata": {
    "colab": {
      "provenance": [],
      "collapsed_sections": [
        "EsRQx7VuMrGK"
      ]
    },
    "kernelspec": {
      "name": "python3",
      "display_name": "Python 3"
    },
    "language_info": {
      "name": "python"
    }
  },
  "cells": [
    {
      "cell_type": "markdown",
      "source": [
        "# Boilerplate and DB connection\n"
      ],
      "metadata": {
        "id": "K1A-XUxeLxyD"
      }
    },
    {
      "cell_type": "code",
      "execution_count": null,
      "metadata": {
        "colab": {
          "base_uri": "https://localhost:8080/"
        },
        "id": "16d_zAH5Kp5E",
        "outputId": "010883f2-f223-4a22-b009-4271a726c0d7"
      },
      "outputs": [
        {
          "output_type": "stream",
          "name": "stderr",
          "text": [
            "<ipython-input-95-45ccb8f6316f>:20: MovedIn20Warning: The ``declarative_base()`` function is now available as sqlalchemy.orm.declarative_base(). (deprecated since: 2.0) (Background on SQLAlchemy 2.0 at: https://sqlalche.me/e/b8d9)\n",
            "  Base = declarative_base(metadata=metadata)\n"
          ]
        }
      ],
      "source": [
        "from datetime import datetime\n",
        "from decimal import Decimal\n",
        "import uuid, random\n",
        "\n",
        "from sqlalchemy import (\n",
        "    create_engine, Column, Integer, String, DateTime, Boolean,\n",
        "    ForeignKey, Numeric, MetaData, text\n",
        ")\n",
        "from sqlalchemy.exc import OperationalError\n",
        "from sqlalchemy.ext.declarative import declarative_base\n",
        "from sqlalchemy.orm import sessionmaker, scoped_session\n",
        "from sqlalchemy.dialects.postgresql import insert as pg_insert\n",
        "DB_URL = (\n",
        "    'postgresql+psycopg2://student:HSBCN323TestDb36111'\n",
        "    '@database-1.cffitrsftriq.eu-central-1.rds.amazonaws.com:5432/postgres'\n",
        ")\n",
        "SCHEMA = 'hashguess'\n",
        "engine = create_engine(DB_URL, isolation_level=\"SERIALIZABLE\")\n",
        "metadata = MetaData(schema=SCHEMA)\n",
        "Base = declarative_base(metadata=metadata)\n",
        "Session = scoped_session(sessionmaker(bind=engine))\n",
        "\n"
      ]
    },
    {
      "cell_type": "markdown",
      "source": [
        "# Tables"
      ],
      "metadata": {
        "id": "EsRQx7VuMrGK"
      }
    },
    {
      "cell_type": "code",
      "source": [
        "class Player(Base):\n",
        "    __tablename__ = 'player'\n",
        "    player_id = Column(Integer, primary_key=True)\n",
        "    username  = Column(String, unique=True, nullable=False)\n",
        "    email     = Column(String, unique=True, nullable=False)\n",
        "    balance   = Column(Numeric(12,2), nullable=False, default=Decimal('0.00'))\n",
        "\n",
        "class Block(Base):\n",
        "    __tablename__ = 'block'\n",
        "    block_id     = Column(Integer, primary_key=True)\n",
        "    block_hash   = Column(String, unique=True, nullable=True)   # null until generated\n",
        "    actual_char  = Column(String(1), nullable=True)             # null until generated\n",
        "    created_at   = Column(DateTime, default=datetime.utcnow, nullable=False)\n",
        "\n",
        "class Bet(Base):\n",
        "    __tablename__ = 'bet'\n",
        "    bet_id       = Column(Integer, primary_key=True)\n",
        "    player_id    = Column(Integer, ForeignKey(f\"{SCHEMA}.player.player_id\"), nullable=False)\n",
        "    block_id     = Column(Integer, ForeignKey(f\"{SCHEMA}.block.block_id\"), nullable=False)\n",
        "    prediction   = Column(String(1), nullable=False)\n",
        "    stake        = Column(Numeric(12,2), nullable=False)\n",
        "    placed_at    = Column(DateTime, default=datetime.utcnow, nullable=False)\n",
        "    resolved     = Column(Boolean, default=False, nullable=False)\n",
        "    is_win       = Column(Boolean, nullable=True)"
      ],
      "metadata": {
        "id": "l6DJsZvyMMRY"
      },
      "execution_count": null,
      "outputs": []
    },
    {
      "cell_type": "markdown",
      "source": [
        "# Schema"
      ],
      "metadata": {
        "id": "OWLPs0ssNAMl"
      }
    },
    {
      "cell_type": "code",
      "source": [
        "def reset_schema():\n",
        "    with engine.begin() as conn:\n",
        "        conn.execute(text(f\"DROP SCHEMA IF EXISTS {SCHEMA} CASCADE\"))\n",
        "        conn.execute(text(f\"CREATE SCHEMA {SCHEMA}\"))\n",
        "    Base.metadata.create_all(engine)\n",
        "    with engine.begin() as conn:\n",
        "        conn.execute(text(f\"\"\"\n",
        "        CREATE FUNCTION {SCHEMA}.check_active() RETURNS trigger LANGUAGE plpgsql AS $$\n",
        "        DECLARE cnt INT;\n",
        "        BEGIN\n",
        "          SELECT COUNT(*) INTO cnt\n",
        "            FROM {SCHEMA}.bet\n",
        "           WHERE player_id = NEW.player_id\n",
        "             AND resolved = FALSE;\n",
        "          IF cnt >= 5 THEN\n",
        "            RAISE EXCEPTION 'Too many active bets for player %', NEW.player_id;\n",
        "          END IF;\n",
        "          RETURN NEW;\n",
        "        END;\n",
        "        $$;\n",
        "        CREATE TRIGGER trg_check_active\n",
        "          BEFORE INSERT ON {SCHEMA}.bet\n",
        "          FOR EACH ROW EXECUTE FUNCTION {SCHEMA}.check_active();\n",
        "        \"\"\"))\n"
      ],
      "metadata": {
        "id": "1qUFf0wHNFEk"
      },
      "execution_count": null,
      "outputs": []
    },
    {
      "cell_type": "markdown",
      "source": [
        "# Business Logic"
      ],
      "metadata": {
        "id": "OSNjBkzDN8oI"
      }
    },
    {
      "cell_type": "code",
      "source": [
        "# 1) Create user\n",
        "def create_user(username: str, email: str) -> int:\n",
        "    s = Session()\n",
        "    try:\n",
        "        stmt = pg_insert(Player).values(\n",
        "            username=username, email=email, balance=Decimal('0.00')\n",
        "        ).on_conflict_do_nothing(index_elements=['username'])\n",
        "        s.execute(stmt); s.commit()\n",
        "        return s.query(Player).filter_by(username=username).one().player_id\n",
        "    finally:\n",
        "        Session.remove()\n",
        "\n",
        "# 2) Increase balance by random [50,1000]\n",
        "def increase_balance(player_id: int) -> Decimal:\n",
        "    amt = Decimal(random.uniform(50, 1000)).quantize(Decimal('0.01'))\n",
        "    s = Session()\n",
        "    try:\n",
        "        with s.begin():\n",
        "            s.execute(text(\n",
        "                f\"UPDATE {SCHEMA}.player SET balance = balance + :amt WHERE player_id = :pid\"\n",
        "            ), {'amt': amt, 'pid': player_id})\n",
        "        return amt\n",
        "    finally:\n",
        "        Session.remove()\n",
        "\n",
        "# 3) Generate upcoming block (placeholder)\n",
        "def generate_block() -> int:\n",
        "    s = Session()\n",
        "    try:\n",
        "        with s.begin():\n",
        "            last = s.query(Block).order_by(Block.block_id.desc()).first()\n",
        "            if last and last.actual_char is None:\n",
        "                raise Exception(\"Previous block still unresolved\")\n",
        "            res = s.execute(\n",
        "                pg_insert(Block)\n",
        "                .values(block_hash=None, actual_char=None)\n",
        "                .returning(Block.block_id)\n",
        "            )\n",
        "            return res.scalar_one()\n",
        "    finally:\n",
        "        Session.remove()\n",
        "\n",
        "# 4) Place a bet on that block\n",
        "def make_bet(player_id: int, block_id: int, prediction: str, stake: Decimal) -> int:\n",
        "    s = Session()\n",
        "    try:\n",
        "        with s.begin():\n",
        "            # lock & check balance\n",
        "            row = s.execute(text(\n",
        "                f\"SELECT balance FROM {SCHEMA}.player WHERE player_id=:pid FOR UPDATE\"\n",
        "            ), {'pid': player_id}).first()\n",
        "            if not row or row.balance < stake:\n",
        "                raise Exception(\"Insufficient balance\")\n",
        "            s.execute(text(\n",
        "                f\"UPDATE {SCHEMA}.player SET balance = balance - :stk WHERE player_id = :pid\"\n",
        "            ), {'stk': stake, 'pid': player_id})\n",
        "\n",
        "            # verify block is upcoming\n",
        "            blk = s.query(Block).get(block_id)\n",
        "            if not blk or blk.actual_char is not None:\n",
        "                raise Exception(\"Block not open for betting\")\n",
        "\n",
        "            b = Bet(\n",
        "                player_id=player_id, block_id=block_id,\n",
        "                prediction=prediction, stake=stake\n",
        "            )\n",
        "            s.add(b)\n",
        "        return b.bet_id\n",
        "    finally:\n",
        "        Session.remove()\n",
        "\n",
        "# 5a) Generate real hash for a given block\n",
        "def generate_block_hash(block_id: int) -> str:\n",
        "    h = uuid.uuid4().hex\n",
        "    actual = h[-1]\n",
        "    s = Session()\n",
        "    try:\n",
        "        with s.begin():\n",
        "            s.execute(text(\n",
        "                f\"UPDATE {SCHEMA}.block SET block_hash=:h, actual_char=:c WHERE block_id=:bid\"\n",
        "            ), {'h': h, 'c': actual, 'bid': block_id})\n",
        "        return h\n",
        "    finally:\n",
        "        Session.remove()\n",
        "\n",
        "# 5b) Resolve **all** bets on any blocks that now have a hash\n",
        "def resolve_all_bets() -> int:\n",
        "    s = Session()\n",
        "    try:\n",
        "        with s.begin():\n",
        "            res = s.execute(text(f\"\"\"\n",
        "                UPDATE {SCHEMA}.bet AS bt\n",
        "                   SET resolved = TRUE,\n",
        "                       is_win = (bt.prediction = b.actual_char)\n",
        "                  FROM {SCHEMA}.block AS b\n",
        "                 WHERE bt.block_id = b.block_id\n",
        "                   AND b.actual_char IS NOT NULL\n",
        "                   AND bt.resolved = FALSE\n",
        "            \"\"\"))\n",
        "            return res.rowcount\n",
        "    finally:\n",
        "        Session.remove()"
      ],
      "metadata": {
        "id": "9Q2QatTxN_HQ"
      },
      "execution_count": null,
      "outputs": []
    },
    {
      "cell_type": "markdown",
      "source": [
        "# Schema Reset"
      ],
      "metadata": {
        "id": "xHX2hRztO-6P"
      }
    },
    {
      "cell_type": "code",
      "source": [
        "reset_schema()"
      ],
      "metadata": {
        "id": "jy9Web5TP0e1"
      },
      "execution_count": null,
      "outputs": []
    },
    {
      "cell_type": "markdown",
      "source": [
        "# Check create_user() perfomance."
      ],
      "metadata": {
        "id": "FenxFlfEYAm5"
      }
    },
    {
      "cell_type": "code",
      "source": [
        "import time\n",
        "from decimal import Decimal\n",
        "\n",
        "def perf_test_user_setup(n: int = 10000):\n",
        "    \"\"\"\n",
        "    Measures throughput of the full user‐creation setup:\n",
        "      1) create_user(username, email) → balance = 0.00\n",
        "      2) increase_balance(player_id)   → random credit 50.00–1000.00\n",
        "    for n distinct users perf_user_0 … perf_user_{n-1}.\n",
        "    \"\"\"\n",
        "    start = time.time()\n",
        "    successes = 0\n",
        "\n",
        "    for i in range(n):\n",
        "        username = f'perf_user_{i}'\n",
        "        email    = f'{username}@example.com'\n",
        "        try:\n",
        "            # 1) create user (balance initialized to 0.00)\n",
        "            uid = create_user(username, email)\n",
        "            # 2) credit a random amount\n",
        "            credited = increase_balance(uid)\n",
        "            successes += 1\n",
        "        except Exception as e:\n",
        "            print(f\"[{i}] Failed setup for {username}: {e}\")\n",
        "\n",
        "    elapsed = time.time() - start\n",
        "    print(f\"Completed setup for {successes}/{n} users in {elapsed:.2f}s → {successes/elapsed:.0f} ops/s\")"
      ],
      "metadata": {
        "id": "hw1e25HVYHqH"
      },
      "execution_count": null,
      "outputs": []
    },
    {
      "cell_type": "code",
      "source": [
        "perf_test_user_setup(10)"
      ],
      "metadata": {
        "colab": {
          "base_uri": "https://localhost:8080/"
        },
        "id": "Kwu7bMn3YlGj",
        "outputId": "8e77dd8b-58ff-444e-aada-f96f5345b125"
      },
      "execution_count": null,
      "outputs": [
        {
          "output_type": "stream",
          "name": "stdout",
          "text": [
            "Completed setup for 10/10 users in 10.07s → 1 ops/s\n"
          ]
        }
      ]
    },
    {
      "cell_type": "markdown",
      "source": [
        "# Check betting perfomance"
      ],
      "metadata": {
        "id": "azCJuHZXZRAh"
      }
    },
    {
      "cell_type": "code",
      "source": [
        "import random\n",
        "import time\n",
        "from decimal import Decimal\n",
        "\n",
        "def perf_test_betting_with_users(n_bets: int = 1000, stake: Decimal = Decimal('1.00')):\n",
        "    \"\"\"\n",
        "    Tests betting throughput using multiple existing users created beforehand.\n",
        "    Assumes perf_test_user_setup() was already run.\n",
        "    \"\"\"\n",
        "\n",
        "    # Fetch all users with sufficient balance\n",
        "    s = Session()\n",
        "    users = s.query(Player.player_id).filter(Player.balance >= stake).all()\n",
        "    s.close()\n",
        "\n",
        "    user_ids = [u.player_id for u in users]\n",
        "    if not user_ids:\n",
        "        print(\"No users with sufficient balance found. Run perf_test_user_setup() first.\")\n",
        "        return\n",
        "\n",
        "    print(f\"Using {len(user_ids)} users for betting test.\")\n",
        "\n",
        "    bets_made = 0\n",
        "    start = time.time()\n",
        "\n",
        "    while bets_made < n_bets:\n",
        "        # Ensure all previous blocks are resolved before creating new block\n",
        "        resolve_all_bets()\n",
        "        block_id = generate_block()\n",
        "\n",
        "        for _ in range(min(100, n_bets - bets_made)):  # batch 100 bets per block\n",
        "            uid = random.choice(user_ids)\n",
        "            guess = random.choice('0123456789abcdef')\n",
        "            try:\n",
        "                make_bet(uid, block_id, guess, stake)\n",
        "                bets_made += 1\n",
        "            except Exception as e:\n",
        "                print(f\"Bet skipped for user {uid}: {e}\")\n",
        "\n",
        "        # After placing bets, resolve them (except for the most recent block)\n",
        "        generate_block_hash(block_id)\n",
        "        # resolve_all_bets() leaves last block unresolved as expected\n",
        "\n",
        "    elapsed = time.time() - start\n",
        "    print(f\"Placed {bets_made} bets in {elapsed:.2f}s → {bets_made/elapsed:.0f} ops/s\")"
      ],
      "metadata": {
        "id": "zYA3ko7mZUu8"
      },
      "execution_count": null,
      "outputs": []
    },
    {
      "cell_type": "code",
      "source": [
        "perf_test_betting_with_users(10)\n",
        "perf_test_betting_with_users(10)"
      ],
      "metadata": {
        "colab": {
          "base_uri": "https://localhost:8080/"
        },
        "id": "sqTZvHDpZwDJ",
        "outputId": "afdfb70c-a74b-4081-ad13-009f93eb9e1d"
      },
      "execution_count": null,
      "outputs": [
        {
          "output_type": "stream",
          "name": "stdout",
          "text": [
            "Using 10 users for betting test.\n"
          ]
        },
        {
          "output_type": "stream",
          "name": "stderr",
          "text": [
            "<ipython-input-44-311ac7fd9bf5>:59: LegacyAPIWarning: The Query.get() method is considered legacy as of the 1.x series of SQLAlchemy and becomes a legacy construct in 2.0. The method is now available as Session.get() (deprecated since: 2.0) (Background on SQLAlchemy 2.0 at: https://sqlalche.me/e/b8d9)\n",
            "  blk = s.query(Block).get(block_id)\n"
          ]
        },
        {
          "output_type": "stream",
          "name": "stdout",
          "text": [
            "Placed 10 bets in 11.25s → 1 ops/s\n",
            "Using 10 users for betting test.\n",
            "Placed 10 bets in 11.17s → 1 ops/s\n"
          ]
        }
      ]
    },
    {
      "cell_type": "markdown",
      "source": [
        "# Isolation Test"
      ],
      "metadata": {
        "id": "wQI9-qDVbdfZ"
      }
    },
    {
      "cell_type": "code",
      "source": [
        "import pytest\n",
        "from threading import Thread\n",
        "from sqlalchemy.exc import OperationalError, IntegrityError\n",
        "from decimal import Decimal\n",
        "\n",
        "def test_concurrent_bets_do_not_exceed_max_active():\n",
        "    \"\"\"\n",
        "    Tests that concurrent bet placements do not exceed the maximum allowed active bets (5)\n",
        "    for a player, ensuring database trigger and isolation level enforce the constraint.\n",
        "    \"\"\"\n",
        "    reset_schema()\n",
        "\n",
        "    # Setup user with sufficient balance\n",
        "    username = \"test_user_concurrent\"\n",
        "    email = f\"{username}@example.com\"\n",
        "    user_id = create_user(username, email)\n",
        "    increase_balance(user_id)  # Add random credit (>=50)\n",
        "\n",
        "    # Generate a block to bet on\n",
        "    block_id = generate_block()\n",
        "\n",
        "    # Pre-place 4 bets to reach near the limit\n",
        "\n",
        "    for _ in range(4):\n",
        "        guess = random.choice('0123456789abcdef')\n",
        "        make_bet(user_id, block_id,guess, Decimal('10.00'))\n",
        "\n",
        "    # Track exceptions from threads\n",
        "    exceptions = []\n",
        "    def get_active_bets_count(player_id):\n",
        "      s = Session()\n",
        "      count = s.query(Bet).filter(Bet.player_id == player_id, Bet.resolved == False).count()\n",
        "      s.close()\n",
        "      return count\n",
        "    def attempt_bet():\n",
        "        \"\"\"Thread function to place one additional bet.\"\"\"\n",
        "        try:\n",
        "            bet_value = Decimal(random.choice('123456'))\n",
        "            print(f\"Attempting bet for user {user_id}, current active bets: {get_active_bets_count(user_id)}, with value{bet_value}\")\n",
        "            make_bet(user_id, block_id, '?',bet_value)\n",
        "            print(f\"Bet placed successfully for user {user_id}\")\n",
        "        except Exception as e:\n",
        "            exceptions.append(e)\n",
        "\n",
        "    # Spawn two threads to attempt placing the 5th and 6th bets concurrently\n",
        "    t1 = Thread(target=attempt_bet)\n",
        "    t2 = Thread(target=attempt_bet)\n",
        "    t1.start()\n",
        "    t2.start() # Fixed: Removed extra closing parenthesis\n",
        "    time.sleep(1)\n",
        "    t1.join()\n",
        "    t2.join()\n",
        "    print(f\"Active bets after 6th bet attempt: {get_active_bets_count(user_id)}\")\n",
        "    # Verify results\n",
        "    s = Session()\n",
        "    try:\n",
        "        active_bets = s.query(Bet).filter(\n",
        "            Bet.player_id == user_id,\n",
        "            Bet.resolved == False\n",
        "        ).count() # Fixed: Corrected indentation\n",
        "        assert active_bets <= 5, f\"Active bets exceeded limit (found {active_bets})\"\n",
        "\n",
        "        # Ensure at least one failure occurred (trigger or serialization error)\n",
        "        assert len(exceptions) >= 1, \"Expected concurrency-related exception\"\n",
        "    finally:\n",
        "        s.close()\n",
        "        Session.remove()"
      ],
      "metadata": {
        "id": "rHV9AHrVg3wc"
      },
      "execution_count": 110,
      "outputs": []
    },
    {
      "cell_type": "code",
      "source": [
        "test_concurrent_bets_do_not_exceed_max_active()"
      ],
      "metadata": {
        "colab": {
          "base_uri": "https://localhost:8080/"
        },
        "id": "c8UUMoEojMUv",
        "outputId": "20a90c46-e0b2-43ea-df14-095f168aac4a"
      },
      "execution_count": 111,
      "outputs": [
        {
          "output_type": "stream",
          "name": "stderr",
          "text": [
            "<ipython-input-63-311ac7fd9bf5>:59: LegacyAPIWarning: The Query.get() method is considered legacy as of the 1.x series of SQLAlchemy and becomes a legacy construct in 2.0. The method is now available as Session.get() (deprecated since: 2.0) (Background on SQLAlchemy 2.0 at: https://sqlalche.me/e/b8d9)\n",
            "  blk = s.query(Block).get(block_id)\n"
          ]
        },
        {
          "output_type": "stream",
          "name": "stdout",
          "text": [
            "Attempting bet for user 1, current active bets: 4, with value6\n",
            "Attempting bet for user 1, current active bets: 4, with value5\n",
            "Bet placed successfully for user 1\n",
            "Active bets after 6th bet attempt: 5\n"
          ]
        }
      ]
    }
  ]
}